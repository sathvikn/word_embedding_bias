{
 "cells": [
  {
   "cell_type": "markdown",
   "metadata": {},
   "source": [
    "# Bias and Word Embeddings (Part 2)"
   ]
  },
  {
   "cell_type": "markdown",
   "metadata": {},
   "source": [
    "This is the second Jupyter Notebook complementing my blog post. If you're looking for the previous one, it's in the same Github repo!"
   ]
  },
  {
   "cell_type": "markdown",
   "metadata": {},
   "source": [
    "In our previous notebook, we ended up looking at vectors for people that were close to two terms that could cause bias, but that method wasn't too effective. Let's take another look at the embeddings and apply another linear algebra technique, but first, let's make sure we have all our functions and data ready."
   ]
  },
  {
   "cell_type": "markdown",
   "metadata": {},
   "source": [
    "## Setup"
   ]
  },
  {
   "cell_type": "markdown",
   "metadata": {},
   "source": [
    "Reading in data and copying over some functions from our previous notebook."
   ]
  },
  {
   "cell_type": "code",
   "execution_count": 2,
   "metadata": {},
   "outputs": [],
   "source": [
    "import numpy as np\n",
    "from sklearn.metrics.pairwise import cosine_similarity\n",
    "from nltk.corpus import wordnet as wn\n",
    "from sklearn.decomposition import PCA \n",
    "from matplotlib import pyplot as plt"
   ]
  },
  {
   "cell_type": "code",
   "execution_count": 3,
   "metadata": {},
   "outputs": [],
   "source": [
    "#Reading data\n",
    "f = open('glove.6B/glove.6B.100d.txt', 'r') \n",
    "vocab = []\n",
    "embeddings = {}\n",
    "matrix = []\n",
    "for line in f:\n",
    "    split_line = line.split()\n",
    "    word = split_line[0]\n",
    "    vector = np.asarray([float(i) for i in split_line[1:]])\n",
    "    embeddings.update({word:vector})\n",
    "    vocab.append(word)\n",
    "    matrix.append(vector)\n",
    "#PCA\n",
    "pca = PCA(n_components = 2)\n",
    "mtx_2d = pca.fit_transform(matrix)\n",
    "embeddings_2d = {vocab[i]:mtx_2d[i] for i in np.arange(len(vocab))}\n"
   ]
  },
  {
   "cell_type": "code",
   "execution_count": 12,
   "metadata": {},
   "outputs": [],
   "source": [
    "#Plotting Function\n",
    "def plot_embeddings(word_lst, embedding_dict, dot_color, labels = True):\n",
    "    \"\"\"Takes in a list of words to be plotted, their 2-dimensional embeddings, \n",
    "    the color of the dots, and whether the dots should be labeled,\n",
    "    makes a scatterplot of the word vectors\"\"\"\n",
    "    coords = [embedding_dict[word] for word in word_lst]\n",
    "    extract_coords = lambda tuple_index: [c[tuple_index] for c in coords] \n",
    "    x = extract_coords(0)\n",
    "    y = extract_coords(1)\n",
    "    fig, ax = plt.subplots()\n",
    "    ax.scatter(x, y, color = dot_color)\n",
    "    if labels:\n",
    "        for i in np.arange(len(word_lst)):\n",
    "            ax.annotate(word_lst[i], (x[i] + 0.05, y[i] + 0.05))\n",
    "    return ax"
   ]
  },
  {
   "cell_type": "code",
   "execution_count": 6,
   "metadata": {},
   "outputs": [],
   "source": [
    "#Filtering out people and male/female-specific words\n",
    "def get_hyponyms(synset):\n",
    "    \"\"\"Get all words that are considered subcategories, or hyponyms of a particular noun.\n",
    "    Takes in a WordNet Synset object, returns a set of words that are part of that synset\"\"\"\n",
    "    hyponyms = set()\n",
    "    for hyponym in synset.hyponyms():\n",
    "        hyponyms |= set(get_hyponyms(hyponym)) #Gets union of all the hyponyms of the word\n",
    "    hyponyms = hyponyms | set(synset.hyponyms())\n",
    "    return hyponyms\n",
    "\n",
    "types_of_people = {synset.name().split('.')[0] for synset in get_hyponyms(wn.synset('person.n.01'))}\n",
    "\n",
    "male_words=set(['guy','spokesman','chairman',\"men's\",'men','him',\"he's\",'his',\n",
    "                'boy','boyfriend','boyfriends','boys','brother','brothers','dad','dads','dude','father','fathers',\n",
    "                'fiance','gentleman','gentlemen','god','grandfather','grandpa','grandson','groom','he','himself',\n",
    "                'husband','husbands','king','male','man','mr','nephew','nephews','priest','prince','son',\n",
    "                'sons','uncle','uncles','waiter','widower','widowers'])\n",
    "female_words=set(['heroine','spokeswoman','chairwoman',\"women's\",\n",
    "                  'actress','women',\"she's\",'her','aunt','aunts','bride',\n",
    "                  'daughter','daughters','female','fiancee','girl','girlfriend','girlfriends','girls',\n",
    "                  'goddess','granddaughter','grandma','grandmother','herself','ladies','lady','lady','mom',\n",
    "                  'moms','mother','mothers','mrs','ms','niece','nieces','priestess','princess','queens','she',\n",
    "                  'sister','sisters','waitress','widow','widows','wife','wives','woman'])\n",
    "def gender_neutral(word):\n",
    "    \"\"\"Takes in a word and returns True if the word does not belong to \"\"\"\n",
    "    return (word not in male_words) and (word not in female_words) and (not word.endswith('man')) and (not word.endswith('woman'))\n"
   ]
  },
  {
   "cell_type": "markdown",
   "metadata": {},
   "source": [
    "## Projections onto Vector Spaces "
   ]
  },
  {
   "cell_type": "markdown",
   "metadata": {},
   "source": [
    "For a different approach, we'll turn to [Bolukbasi et al (2016)](https://papers.nips.cc/paper/6228-man-is-to-computer-programmer-as-woman-is-to-homemaker-debiasing-word-embeddings.pdf). As detailed in the paper, if we compare one vector and the vector representing the difference between two words in a relation, we'll get to see how biased that word is in comparison to the rest of the words in our dataset. \n",
    "This allows us to quantify how biased a certain embedding is. For instance, let's see what happens to our embeddings when compared to $she - he$. We'll essentially be able to \"rank\" word embeddings from how \"male,\" \"female,\" or \"neutral\" they are.\n",
    "\n",
    "\n",
    "In linear algebra terms, the vector is being projected onto the space spanned by the biased words via taking the dot product. For the sake of simplicity, I performed a scalar projection, but similar results could be obtained by projecting a certain word onto a basis formed by multiple vectors exhibiting the same relationship (e.g. projecting the vector for \"engineer\" onto the space spanned by $[he - she, him - her, father - mother]$)."
   ]
  },
  {
   "cell_type": "code",
   "execution_count": 7,
   "metadata": {},
   "outputs": [],
   "source": [
    "def projection(word1, word2, filter_people = False, entire_list = False):\n",
    "    \"\"\"Takes in two words and boolean flags to remove people and return the entire list\n",
    "    Returns the \"scores\" for the embeddings when projected onto the space of word1 - word2\n",
    "    as a list of tuples in the format(word, score). \n",
    "    Can return scores for the entire dataset or the top and bottom 30 words.\n",
    "    \"\"\"\n",
    "    dot_products = {}\n",
    "    target_vector = embeddings[word1] - embeddings[word2]\n",
    "    for e in embeddings:\n",
    "        if (filter_people and e in types_of_people) or not filter_people:\n",
    "            dot_products[e] = np.dot(embeddings[e], target_vector)\n",
    "    sorted_by_value = sorted(dot_products.items(), key=lambda kv: kv[1])\n",
    "    if entire_list:\n",
    "        return sorted_by_value\n",
    "    else:\n",
    "        return sorted_by_value[:30], sorted_by_value[-30:]"
   ]
  },
  {
   "cell_type": "code",
   "execution_count": 8,
   "metadata": {},
   "outputs": [
    {
     "data": {
      "text/plain": [
       "([('actress', -9.741748064429),\n",
       "  ('princess', -8.2977127146939),\n",
       "  ('girl', -7.9675635360169395),\n",
       "  ('mother', -7.769731536065),\n",
       "  ('sister', -7.471787558951999),\n",
       "  ('daughter', -7.306648032271999),\n",
       "  ('baby', -7.2921818369530005),\n",
       "  ('archduchess', -7.2662344563023),\n",
       "  ('soprano', -7.214419258906201),\n",
       "  ('girlfriend', -7.132530076883981),\n",
       "  ('mezzo-soprano', -7.0743003058341),\n",
       "  ('ballerina', -7.025223175676199),\n",
       "  ('aunt', -6.9974255033244),\n",
       "  ('woman', -6.759235861828801),\n",
       "  ('bride', -6.7585562751939),\n",
       "  ('bonesetter', -6.69312866719482),\n",
       "  ('nude', -6.3830906470498),\n",
       "  ('duchess', -6.375533436343499),\n",
       "  ('countrywoman', -6.353722345177401),\n",
       "  ('spokeswoman', -6.290264946293),\n",
       "  ('supermodel', -6.2762004748088005),\n",
       "  ('countess', -6.2387458118624),\n",
       "  ('heiress', -6.2334643744697),\n",
       "  ('lesbian', -6.231205399075699),\n",
       "  ('waitress', -6.2008776042276),\n",
       "  ('dowager', -6.144607161782999),\n",
       "  ('contralto', -6.0677067817463),\n",
       "  ('housewife', -6.02619656565),\n",
       "  ('wife', -6.0063985339445995),\n",
       "  ('fiancee', -6.0004688845928)],\n",
       " [('striker', 4.884034156729099),\n",
       "  ('punter', 4.888857999442999),\n",
       "  ('achaean', 4.9006070953870005),\n",
       "  ('brigadier', 4.9028591462526006),\n",
       "  ('supremo', 4.948596880133),\n",
       "  ('minister', 4.971085164442),\n",
       "  ('fielder', 5.06707805761),\n",
       "  ('president', 5.095371086726601),\n",
       "  ('shiite', 5.1354232389179995),\n",
       "  ('provincial', 5.155261112276),\n",
       "  ('rusher', 5.166049891192199),\n",
       "  ('hutu', 5.168481363713),\n",
       "  ('arab', 5.179377045299001),\n",
       "  ('general', 5.188351847792),\n",
       "  ('syrian', 5.2009224952154),\n",
       "  ('infielder', 5.251441122818),\n",
       "  ('scorer', 5.3115221020579995),\n",
       "  ('kicker', 5.341597877271001),\n",
       "  ('successor', 5.38672651165756),\n",
       "  ('shortstop', 5.5506157351904),\n",
       "  ('linebacker', 5.634952078908),\n",
       "  ('goalkeeper', 5.6442139137338),\n",
       "  ('catcher', 5.646673185736001),\n",
       "  ('leader', 5.698147809114),\n",
       "  ('lineman', 5.767204218961799),\n",
       "  ('quarterback', 5.865163427416),\n",
       "  ('coach', 6.0775614576),\n",
       "  ('tackle', 6.164307813322401),\n",
       "  ('outfielder', 6.699196567806001),\n",
       "  ('caliph', 6.991921262719)])"
      ]
     },
     "execution_count": 8,
     "metadata": {},
     "output_type": "execute_result"
    }
   ],
   "source": [
    "\"\"\"Masculine\" words end up having to do with sports, clergy, or military,\n",
    "and \"feminine\" words have to do with service or performance-based occupations\"\"\"\n",
    "projection('he', 'she', filter_people = True)"
   ]
  },
  {
   "cell_type": "code",
   "execution_count": 9,
   "metadata": {},
   "outputs": [
    {
     "data": {
      "text/plain": [
       "([('sheik', -15.546444359754002),\n",
       "  ('shiite', -13.3892383807616),\n",
       "  ('cleric', -12.97782765841616),\n",
       "  ('islamist', -12.826093810900701),\n",
       "  ('militant', -12.744860293783123),\n",
       "  ('khan', -12.0652203077023),\n",
       "  ('ayatollah', -11.73036697325079),\n",
       "  ('malik', -11.38191754419843),\n",
       "  ('saudi', -10.969776286425098),\n",
       "  ('kuwaiti', -10.25835620512635),\n",
       "  ('mullah', -10.079902465676202),\n",
       "  ('emir', -10.07938093962725),\n",
       "  ('shah', -10.0476158693841),\n",
       "  ('terrorist', -10.007341874217381),\n",
       "  ('muslim', -9.7827428514392),\n",
       "  ('imam', -9.744088641475699),\n",
       "  ('extremist', -9.711091726552),\n",
       "  ('sultan', -9.687855511136299),\n",
       "  ('iraqi', -9.6223412953838),\n",
       "  ('pakistani', -9.599836039796902),\n",
       "  ('libyan', -9.3938534076552),\n",
       "  ('terror', -9.385949100010201),\n",
       "  ('uzbek', -9.3312674608702),\n",
       "  ('palestinian', -9.158623876443),\n",
       "  ('yemeni', -9.149156178311701),\n",
       "  ('jordanian', -9.125806133239086),\n",
       "  ('leader', -8.941583877939301),\n",
       "  ('hakim', -8.9370696111248),\n",
       "  ('anti', -8.935580847459502),\n",
       "  ('bahraini', -8.867422037971899)],\n",
       " [('catawba', 6.0096435142918),\n",
       "  ('byelorussian', 6.0320065170466),\n",
       "  ('highlander', 6.07939183318952),\n",
       "  ('seminole', 6.1881525575292),\n",
       "  ('jacobean', 6.222137539020701),\n",
       "  ('oneida', 6.2462655176996),\n",
       "  ('anasazi', 6.274079383662601),\n",
       "  ('taos', 6.284305334523321),\n",
       "  ('methodist', 6.286697614366199),\n",
       "  ('congregationalist', 6.2981701072814005),\n",
       "  ('absentee', 6.3250678703424),\n",
       "  ('alexandrian', 6.3276896846938),\n",
       "  ('anglo-saxon', 6.380605385594101),\n",
       "  ('melkite', 6.4565634739719),\n",
       "  ('voyager', 6.4705336301237),\n",
       "  ('pontifex', 6.47459066980545),\n",
       "  ('nestorian', 6.666490294929501),\n",
       "  ('missionary', 6.7425827283345),\n",
       "  ('unitarian', 6.811018434392901),\n",
       "  ('mennonite', 6.8808238836957),\n",
       "  ('jacksonian', 7.012651724756501),\n",
       "  ('nazarene', 7.02724782963572),\n",
       "  ('lutheran', 7.1297269447155),\n",
       "  ('mississippian', 7.29711341218585),\n",
       "  ('carolingian', 7.37877511683665),\n",
       "  ('presbyterian', 7.42146559405866),\n",
       "  ('iroquois', 7.4503701802735),\n",
       "  ('wesleyan', 8.0762271943344),\n",
       "  ('onondaga', 8.093615042182801),\n",
       "  ('palatine', 8.3685375445143)])"
      ]
     },
     "execution_count": 9,
     "metadata": {},
     "output_type": "execute_result"
    }
   ],
   "source": [
    "\"\"\"More \"Islamic\" words deal with specific nationalities and extremism,\n",
    "whereas \"Christian\" words have much more religious terminology.\"\"\"\n",
    "projection('christianity', 'islam', filter_people=True)"
   ]
  },
  {
   "cell_type": "code",
   "execution_count": 10,
   "metadata": {},
   "outputs": [
    {
     "data": {
      "text/plain": [
       "([('worker', -16.87209311681928),\n",
       "  ('migrant', -16.3595606477),\n",
       "  ('peasant', -13.942771588777102),\n",
       "  ('immigrant', -13.4315754368361),\n",
       "  ('inmate', -12.59205339561922),\n",
       "  ('suffragist', -12.426003447547501),\n",
       "  ('laborer', -12.0317953378371),\n",
       "  ('uighur', -11.302204098906701),\n",
       "  ('tibetan', -11.079728787303),\n",
       "  ('woman', -11.0482056566408),\n",
       "  ('nun', -10.9484827003085),\n",
       "  ('refugee', -10.878285677038498),\n",
       "  ('hostage', -10.733414983323001),\n",
       "  ('child', -10.658395350925872),\n",
       "  ('sorbian', -10.636260892329041),\n",
       "  ('midwife', -10.575435520218601),\n",
       "  ('settler', -10.513133718547),\n",
       "  ('amish', -10.382819463513599),\n",
       "  ('slave', -10.156010342711319),\n",
       "  ('photojournalist', -10.011237752311622),\n",
       "  ('heterosexual', -10.003404216810761),\n",
       "  ('kashmiri', -9.932657051780101),\n",
       "  ('czarina', -9.8482999057465),\n",
       "  ('suffragette', -9.806862267164101),\n",
       "  ('adoptee', -9.76670261507644),\n",
       "  ('molester', -9.721460907977232),\n",
       "  ('homosexual', -9.714815839023),\n",
       "  ('illiterate', -9.712079677953799),\n",
       "  ('nepalese', -9.7003767281488),\n",
       "  ('sharecropper', -9.6051997085914)],\n",
       " [('sir', 9.738632453146),\n",
       "  ('owner', 9.766207891293),\n",
       "  ('bobby', 9.7904439599066),\n",
       "  ('mariner', 9.9407214742017),\n",
       "  ('don', 9.975396151162801),\n",
       "  ('smith', 10.172954859632402),\n",
       "  ('shortstop', 10.192561145714382),\n",
       "  ('starter', 10.20932615437281),\n",
       "  ('senior', 10.268715344609998),\n",
       "  ('outfielder', 10.28700962256525),\n",
       "  ('frank', 10.456292949625),\n",
       "  ('skipper', 10.512707064456),\n",
       "  ('hooker', 10.582040627608961),\n",
       "  ('dick', 10.60936861749842),\n",
       "  ('hotspur', 10.824458190104199),\n",
       "  ('executive', 10.999921182412999),\n",
       "  ('linebacker', 11.096179790673101),\n",
       "  ('fleming', 11.181530867929002),\n",
       "  ('analyst', 11.5677489035776),\n",
       "  ('yankee', 11.583011817329055),\n",
       "  ('quarterback', 11.6395661408968),\n",
       "  ('warner', 11.68003314001),\n",
       "  ('boss', 11.759700519038999),\n",
       "  ('assistant', 11.761429668002),\n",
       "  ('player', 11.9105283591643),\n",
       "  ('commodore', 12.236318382124399),\n",
       "  ('flanker', 13.083294795396899),\n",
       "  ('captain', 13.7611031510544),\n",
       "  ('strategist', 14.9838198332473),\n",
       "  ('coach', 19.625276373213)])"
      ]
     },
     "execution_count": 10,
     "metadata": {},
     "output_type": "execute_result"
    }
   ],
   "source": [
    "\"\"\"Words closer to \"worker\" often describe ethnicities and even specify \"woman,\"\n",
    "while words closer to \"manager\" include \"sir\" \"\"\"\n",
    "projection('manager', 'worker', filter_people = True)"
   ]
  },
  {
   "cell_type": "markdown",
   "metadata": {},
   "source": [
    "## Visualizing Bias"
   ]
  },
  {
   "cell_type": "markdown",
   "metadata": {},
   "source": [
    "Using our results from the last part combined with the results of our PCA, let's try to plot a couple graphs of \"biased\" words. We're going to do this by multiplying the coordinates for each word by its score from a projection."
   ]
  },
  {
   "cell_type": "code",
   "execution_count": 13,
   "metadata": {},
   "outputs": [],
   "source": [
    "def scale_embeddings(proj_lst, embedding_dict):\n",
    "    \"\"\"Takes in a list outputted by the projection function and a dictionary of 2D embeddings,\n",
    "    Returns dictionary of 2D embeddings multiplied by the scalar projection\"\"\"\n",
    "    scaled = {}\n",
    "    for i in proj_lst:\n",
    "        word = i[0]\n",
    "        scaled[word] = embedding_dict[word] * i[1]\n",
    "    return scaled\n",
    "\n",
    "def select_words(word_lst, k):\n",
    "    \"\"\"Takes in a list of words and step size,\n",
    "    Returns randomly selected list of words from the list.\n",
    "    I don't use this function but feel free to experiment!\"\"\"\n",
    "    plot_words = []\n",
    "    for i in np.arange(0, len(word_lst), k):\n",
    "        if i + (k - 1) > len(word_lst):\n",
    "            plot_words.append(word_lst[np.random.randint(i, len(word_lst))])\n",
    "        else:\n",
    "            plot_words.append(word_lst[np.random.randint(i, i + (k - 1))][0])\n",
    "    return plot_words\n",
    "\n",
    "def center_spines(ax=None, centerx=0, centery=0):\n",
    "    \"\"\"Centers a plot at 0, 0, modifies result of plot_embeddings\"\"\"\n",
    "    ax.spines['left'].set_position('zero')\n",
    "    ax.spines['right'].set_color('none')\n",
    "    ax.spines['bottom'].set_position('zero')\n",
    "    ax.spines['top'].set_color('none')\n",
    "    ax.spines['left'].set_smart_bounds(True)\n",
    "    ax.spines['bottom'].set_smart_bounds(True)\n",
    "    ax.xaxis.set_ticks_position('bottom')\n",
    "    ax.yaxis.set_ticks_position('left')\n",
    "    \n",
    "def plot_scaled_embeddings(word1, word2, color, word_lst, people = True):\n",
    "    \"\"\"Takes in 2 words, dot color, list of words to plot, and a flag to include people\n",
    "    Plots the embeddings projected on the space denoted by word1 - word2\"\"\"\n",
    "    scalars = projection(word1, word2, filter_people = people, entire_list = True)\n",
    "    scaled_vectors = scale_embeddings(scalars, embeddings_2d)\n",
    "    labeled_graph = True\n",
    "    if len(word_lst) > 20:\n",
    "        labeled_graph = False\n",
    "    plot = plot_embeddings(word_lst, scaled_vectors, color, labels = labeled_graph)\n",
    "    center_spines(plot)"
   ]
  },
  {
   "cell_type": "code",
   "execution_count": 14,
   "metadata": {},
   "outputs": [
    {
     "data": {
      "image/png": "[encoded data removed]",
      "text/plain": [
       "<Figure size 432x288 with 1 Axes>"
      ]
     },
     "metadata": {},
     "output_type": "display_data"
    }
   ],
   "source": [
    "#All the words for people, transformed based on gender \n",
    "all_people = [e for e in embeddings if e in types_of_people]\n",
    "plot_scaled_embeddings('he', 'she', 'blue', all_people)"
   ]
  },
  {
   "cell_type": "code",
   "execution_count": 15,
   "metadata": {},
   "outputs": [
    {
     "data": {
      "image/png": "[encoded data removed]",
      "text/plain": [
       "<Figure size 432x288 with 1 Axes>"
      ]
     },
     "metadata": {},
     "output_type": "display_data"
    }
   ],
   "source": [
    "plot_scaled_embeddings('he', 'she', 'blue', ['engineer','cook', 'housewife', 'quarterback', 'violist', 'drummer'])\n",
    "#Quadrant 1 has \"masculine\" words and Quadrant 3 has \"feminine\" words"
   ]
  },
  {
   "cell_type": "code",
   "execution_count": 26,
   "metadata": {},
   "outputs": [
    {
     "data": {
      "image/png": "[encoded data removed]",
      "text/plain": [
       "<Figure size 432x288 with 1 Axes>"
      ]
     },
     "metadata": {},
     "output_type": "display_data"
    }
   ],
   "source": [
    "\"\"\"More \"political\" words are associated with the vector for Islam in this dataset. It's also interesting to note that \n",
    "\"service\" appears to be more or less neutral with this projection\"\"\"\n",
    "plot_scaled_embeddings('islam', 'christianity', 'green', \n",
    "                       ['fundamentalist', 'archbishop', 'imam', 'church', \n",
    "                        'service', 'terrorist', 'mosque', 'catholic', 'shia', 'pakistan', 'sweden'],\n",
    "                      people = False)\n"
   ]
  }
 ],
 "metadata": {
  "kernelspec": {
   "display_name": "Python [conda env:datascience]",
   "language": "python",
   "name": "conda-env-datascience-py"
  },
  "language_info": {
   "codemirror_mode": {
    "name": "ipython",
    "version": 3
   },
   "file_extension": ".py",
   "mimetype": "text/x-python",
   "name": "python",
   "nbconvert_exporter": "python",
   "pygments_lexer": "ipython3",
   "version": "3.6.7"
  }
 },
 "nbformat": 4,
 "nbformat_minor": 2
}
