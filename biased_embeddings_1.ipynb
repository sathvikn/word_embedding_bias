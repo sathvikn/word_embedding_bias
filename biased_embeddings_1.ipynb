{
 "cells": [
  {
   "cell_type": "markdown",
   "metadata": {},
   "source": [
    "# Bias and Word Embeddings (Part 1)"
   ]
  },
  {
   "cell_type": "markdown",
   "metadata": {},
   "source": [
    "This is the first Jupyter Notebook complementing my blog post: \n",
    "\n",
    "A very basic understanding of probability and linear algebra will be helpful, but no machine learning/natural language processing experience is needed to understand these notebooks. Please contact me if you think a certain concept needs to be clarified!"
   ]
  },
  {
   "cell_type": "markdown",
   "metadata": {},
   "source": [
    "## What are word embeddings?"
   ]
  },
  {
   "cell_type": "markdown",
   "metadata": {},
   "source": [
    "In order to understand word embeddings, a key paradigm in the natural language processing (NLP) community that we need to adopt is the idea of _text as data_. Once we treat a piece of text as data, we are able to use mathematical and statistical machine learning models to analyze this text.\n",
    "\n",
    "Before word embeddings were developed, there were other methods used for representing a word as a _vector_ of real numbers, but the advantage of embeddings is that they are _distributed word representations_. This means that a machine learning model does not to use \"one-hot encodings,\" where a word's vector is equal to the size of the entire vocabulary and every entry is equal to 0, except the one corresponding to the word, which is a 1. Instead, the model uses the _distributional hypothesis_, a term in linguistics that essentially states that a word's meaning is based on its context, so words that get mentioned in the same contexts usually have similar vectors. It can be argued that many of the recent advances in using computationally intensive neural networks for NLP tasks in the past 5-8 years, like machine translation and conversation agents, have happened due to the ability of word embeddings to capture a richer representation of textual data.\n",
    "\n",
    "There are a couple algorithms to learn embeddings from a _training corpus_, and their authors have made the results of training their models on certain corpora open-source. The model we'll use here is _Globalized Vectors for Word Representation_ [(Pennington, Socher, and Manning, 2014)](https://nlp.stanford.edu/projects/glove/), or GloVe. Essentially, GloVe uses a co-occurrence matrix, where the rows and columns are represented by words, and the entries depend on how likely a word is to appear in the context of another word, in other words, through Bayes's rule. In addition to probabilistic methods, the values of the embeddings are \"learned\" through matrix factorization methods. The other major algorithm to generate word embeddings is known as _Word2Vec_ ([Mikolov et al, 2013](https://papers.nips.cc/paper/5021-distributed-representations-of-words-and-phrases-and-their-compositionality.pdf)), in which the embeddings are learned through neural networks. \n",
    "\n",
    "I chose to use GloVe over Word2Vec for this investigation because it is much easier to interact with the data, available through text files rather than binary files, and implement my own functions to learn about the embeddings. These embeddings were trained on Wikipedia and newswire text, and can be downloaded [here](http://nlp.stanford.edu/data/glove.6B.zip)."
   ]
  },
  {
   "cell_type": "markdown",
   "metadata": {},
   "source": [
    "## Interfacing with Pre-Trained Embeddings"
   ]
  },
  {
   "cell_type": "markdown",
   "metadata": {},
   "source": [
    "Here, we read in the data, and create a list of words contained in the embeddings, a dictionary mapping words to vectors, and a matrix of all the vectors. "
   ]
  },
  {
   "cell_type": "code",
   "execution_count": 130,
   "metadata": {},
   "outputs": [],
   "source": [
    "import numpy as np\n",
    "from sklearn.metrics.pairwise import cosine_similarity\n",
    "from nltk.corpus import wordnet as wn"
   ]
  },
  {
   "cell_type": "code",
   "execution_count": 6,
   "metadata": {},
   "outputs": [],
   "source": [
    "f = open('glove.6B/glove.6B.100d.txt', 'r') \n",
    "vocab = []\n",
    "embeddings = {}\n",
    "matrix = []\n",
    "for line in f:\n",
    "    split_line = line.split()\n",
    "    word = split_line[0]\n",
    "    vector = np.asarray([float(i) for i in split_line[1:]])\n",
    "    embeddings.update({word:vector})\n",
    "    vocab.append(word)\n",
    "    matrix.append(vector)"
   ]
  },
  {
   "cell_type": "markdown",
   "metadata": {},
   "source": [
    "As expressed in the blog post, whether an analogy gets successfully encoded in an embedding is often used as a way to verify if the model is correct.  We use the definition from [Levy, Goldberg (2014)](http://www.aclweb.org/anthology/W14-1618) when evaluating analogies. The canonical example is $queen - king \\approx woman - man$, where $queen$ is the unknown vector.\n",
    "\n",
    "We solve the analogy as follows(where $v$ is a word in the vocabulary, $V$, and $cos$ represents cosine similarity, a term we'll discuss later on): $$argmax_{v \\in V}(cos(v, woman - man + king)$$"
   ]
  },
  {
   "cell_type": "code",
   "execution_count": 23,
   "metadata": {},
   "outputs": [],
   "source": [
    "def evaluate(word, relation, k = 4, return_list = False):\n",
    "    \"\"\"Takes in a target word, a list of two words expressing a relation,\n",
    "    an integer denoting the amount of values that should be returned, and whether a list of words should be returned,\n",
    "    or only the first item. k is set to 4 by default, in the case that the target word and the relation words\n",
    "    answer the analogy.\n",
    "    Returns a list of words of length [k - 3, k] that satisfy the analogy in order of decreasing cosine similarity\"\"\"\n",
    "    if [i for i in [word, relation[0], relation[1]] if i not in embeddings]:\n",
    "        raise ValueError(\"Word must be in vocabulary\")\n",
    "    result_vector = embeddings[relation[0]] - embeddings[relation[1]] + embeddings[word]\n",
    "    nearest_indices = k_nearest_vectors(k, matrix, [result_vector])[0]\n",
    "    closest_words = [vocab[i] for i in nearest_indices if vocab[i] != word and vocab[i] not in relation]\n",
    "    if return_list:\n",
    "        return closest_words\n",
    "    else:\n",
    "        return closest_words[0]"
   ]
  },
  {
   "cell_type": "markdown",
   "metadata": {},
   "source": [
    "We define the following helper function to reduce the search space. "
   ]
  },
  {
   "cell_type": "code",
   "execution_count": 25,
   "metadata": {},
   "outputs": [],
   "source": [
    "def k_nearest_vectors(k, mtx, candidate_vector):\n",
    "    \"\"\"Takes in an integer value(k), a matrix (2D list) of all the vectors, and the vector (list) we want to compare.\n",
    "    Returns an array of length k for indices of the most similar word vectors, and the cosine similarities of these vectors \"\"\"\n",
    "    cos_similarities = cosine_similarity(mtx, candidate_vector).flatten()\n",
    "    k_sorted = np.flip(np.argsort(cos_similarities)[-k:], axis = 0)\n",
    "    cos_sorted = np.flip(np.sort(cos_similarities), axis = 0)[:k]\n",
    "    return k_sorted, cos_sorted"
   ]
  },
  {
   "cell_type": "markdown",
   "metadata": {},
   "source": [
    "The following test tells us our helper function is correct: the item with the highest cosine similarity to a given word in the dataset will be the word itself. Because the function returns a list of indices, we check if the index corresponds most to the word we are checking by looking at its position in the vocabulary."
   ]
  },
  {
   "cell_type": "code",
   "execution_count": 537,
   "metadata": {},
   "outputs": [
    {
     "data": {
      "text/plain": [
       "True"
      ]
     },
     "execution_count": 537,
     "metadata": {},
     "output_type": "execute_result"
    }
   ],
   "source": [
    "vocab.index('woman') == k_nearest_vectors(5, matrix, [embeddings['woman']])[0][0]"
   ]
  },
  {
   "cell_type": "markdown",
   "metadata": {},
   "source": [
    "## Evaluation"
   ]
  },
  {
   "cell_type": "markdown",
   "metadata": {},
   "source": [
    "Let's look at a couple analogies to make sure our evaluation function is working properly. We'll start with the example: \"woman\" is to \"man\" as \"queen\" is to \"king.\""
   ]
  },
  {
   "cell_type": "code",
   "execution_count": 278,
   "metadata": {},
   "outputs": [
    {
     "data": {
      "text/plain": [
       "'queen'"
      ]
     },
     "execution_count": 278,
     "metadata": {},
     "output_type": "execute_result"
    }
   ],
   "source": [
    "evaluate('king', ['woman', 'man'])"
   ]
  },
  {
   "cell_type": "markdown",
   "metadata": {},
   "source": [
    "Embeddings can also reveal details like grammatical properties:"
   ]
  },
  {
   "cell_type": "code",
   "execution_count": 249,
   "metadata": {},
   "outputs": [
    {
     "data": {
      "text/plain": [
       "'harder'"
      ]
     },
     "execution_count": 249,
     "metadata": {},
     "output_type": "execute_result"
    }
   ],
   "source": [
    "evaluate('hard', ['better', 'good']) #comparative adjectives"
   ]
  },
  {
   "cell_type": "code",
   "execution_count": 250,
   "metadata": {},
   "outputs": [
    {
     "data": {
      "text/plain": [
       "'ducks'"
      ]
     },
     "execution_count": 250,
     "metadata": {},
     "output_type": "execute_result"
    }
   ],
   "source": [
    "evaluate('duck', ['men', 'man']) #singular/plural"
   ]
  },
  {
   "cell_type": "code",
   "execution_count": 251,
   "metadata": {},
   "outputs": [
    {
     "data": {
      "text/plain": [
       "'their'"
      ]
     },
     "execution_count": 251,
     "metadata": {},
     "output_type": "execute_result"
    }
   ],
   "source": [
    "evaluate('they', ['his', 'he']) #possessive forms"
   ]
  },
  {
   "cell_type": "markdown",
   "metadata": {},
   "source": [
    "They can also help us answer questions about the world:"
   ]
  },
  {
   "cell_type": "code",
   "execution_count": 538,
   "metadata": {},
   "outputs": [
    {
     "data": {
      "text/plain": [
       "'beijing'"
      ]
     },
     "execution_count": 538,
     "metadata": {},
     "output_type": "execute_result"
    }
   ],
   "source": [
    "evaluate('china', ['moscow', 'russia']) #capitals of countries"
   ]
  },
  {
   "cell_type": "code",
   "execution_count": 305,
   "metadata": {},
   "outputs": [
    {
     "data": {
      "text/plain": [
       "'gdańsk'"
      ]
     },
     "execution_count": 305,
     "metadata": {},
     "output_type": "execute_result"
    }
   ],
   "source": [
    "evaluate('danzig', ['mumbai', 'bombay']) #former names of cities"
   ]
  },
  {
   "cell_type": "code",
   "execution_count": 314,
   "metadata": {},
   "outputs": [
    {
     "data": {
      "text/plain": [
       "'asia'"
      ]
     },
     "execution_count": 314,
     "metadata": {},
     "output_type": "execute_result"
    }
   ],
   "source": [
    "evaluate('japan', ['europe', 'germany']) #country-continent mapping"
   ]
  },
  {
   "cell_type": "markdown",
   "metadata": {},
   "source": [
    "However, embeddings can also reveal problematic *biases* in language. "
   ]
  },
  {
   "cell_type": "code",
   "execution_count": 129,
   "metadata": {},
   "outputs": [
    {
     "data": {
      "text/plain": [
       "'woman'"
      ]
     },
     "execution_count": 129,
     "metadata": {},
     "output_type": "execute_result"
    }
   ],
   "source": [
    "evaluate('nurse', ['man', 'doctor']) #gender based on occupation"
   ]
  },
  {
   "cell_type": "code",
   "execution_count": 383,
   "metadata": {},
   "outputs": [
    {
     "data": {
      "text/plain": [
       "'black'"
      ]
     },
     "execution_count": 383,
     "metadata": {},
     "output_type": "execute_result"
    }
   ],
   "source": [
    "evaluate('criminal', ['white', 'police']) #racial stereotypes"
   ]
  },
  {
   "cell_type": "code",
   "execution_count": 37,
   "metadata": {},
   "outputs": [
    {
     "data": {
      "text/plain": [
       "'islamic'"
      ]
     },
     "execution_count": 37,
     "metadata": {},
     "output_type": "execute_result"
    }
   ],
   "source": [
    "evaluate('terrorist', ['christianity', 'lawful']) #religious stereotypes"
   ]
  },
  {
   "cell_type": "markdown",
   "metadata": {},
   "source": [
    "## Visualizing the Embeddings"
   ]
  },
  {
   "cell_type": "markdown",
   "metadata": {},
   "source": [
    "Let's try to figure out why this is the case by looking at some of the mathematical properties of the embeddings."
   ]
  },
  {
   "cell_type": "markdown",
   "metadata": {},
   "source": [
    "But first, let's try to visualize our data. How exactly will this work, if each embedding is represented by a $[1 \\times 100]$ vector? We turn to _principal component analysis_, a technique used for _dimensionality reduction_, in order to create a 2D representation of the data. \n",
    "\n",
    "Don't worry too much if this term is new! PCA basically compresses all the information captured in our dataset into vectors called principal components. Each principle component explains a certain percentage of the _variance_, or spread, of our data. We're going to specify that it needs 2 components, because we're going to make a plot on an x-y plane."
   ]
  },
  {
   "cell_type": "code",
   "execution_count": 139,
   "metadata": {},
   "outputs": [
    {
     "data": {
      "text/plain": [
       "array([0.91288564, 0.51800902])"
      ]
     },
     "execution_count": 139,
     "metadata": {},
     "output_type": "execute_result"
    }
   ],
   "source": [
    "from sklearn.decomposition import PCA \n",
    "pca = PCA(n_components = 2)\n",
    "mtx_2d = pca.fit_transform(matrix)\n",
    "embeddings_2d = {vocab[i]:mtx_2d[i] for i in np.arange(len(vocab))}\n",
    "#Our x-coordinate explains a little over 90% of the variance, and the y-coordinate explains a little over half.\n",
    "pca.explained_variance_ "
   ]
  },
  {
   "cell_type": "markdown",
   "metadata": {},
   "source": [
    "We'll now write a function to plot word embeddings on a graph."
   ]
  },
  {
   "cell_type": "code",
   "execution_count": 255,
   "metadata": {},
   "outputs": [],
   "source": [
    "from matplotlib import pyplot as plt\n",
    "def plot_embeddings(word_lst, embedding_dict, dot_color, labels = True):\n",
    "    coords = [embedding_dict[word] for word in word_lst]\n",
    "    extract_coords = lambda tuple_index: [c[tuple_index] for c in coords] \n",
    "    x = extract_coords(0)\n",
    "    y = extract_coords(1)\n",
    "    fig, ax = plt.subplots()\n",
    "    ax.scatter(x, y, color = dot_color)\n",
    "    if labels:\n",
    "        for i in np.arange(len(word_lst)):\n",
    "            ax.annotate(word_lst[i], (x[i] + 0.05, y[i] + 0.05))\n",
    "    return ax"
   ]
  },
  {
   "cell_type": "markdown",
   "metadata": {},
   "source": [
    "For each graph, I tried doing the \"base\" relation, one true relation, and one false relation."
   ]
  },
  {
   "cell_type": "code",
   "execution_count": 189,
   "metadata": {},
   "outputs": [
    {
     "data": {
      "text/plain": [
       "(0.45817038417787165, 1.55)"
      ]
     },
     "execution_count": 189,
     "metadata": {},
     "output_type": "execute_result"
    },
    {
     "data": {
      "image/png": "[encoded data removed]",
      "text/plain": [
       "<Figure size 432x288 with 1 Axes>"
      ]
     },
     "metadata": {},
     "output_type": "display_data"
    }
   ],
   "source": [
    "gender_ax = plot_embeddings(['man', 'woman', 'queen', 'king', 'engineer', 'housewife'], embeddings_2d, 'blue') \n",
    "#base: man-woman, true: queen - king, false: engineer - housewife\n",
    "gender_ax.set_xlim(right=5)\n",
    "gender_ax.set_ylim(top = 1.55)"
   ]
  },
  {
   "cell_type": "code",
   "execution_count": 192,
   "metadata": {},
   "outputs": [
    {
     "data": {
      "text/plain": [
       "(0.06473013401858435, 1.3)"
      ]
     },
     "execution_count": 192,
     "metadata": {},
     "output_type": "execute_result"
    },
    {
     "data": {
      "image/png": "[encoded data removed]",
      "text/plain": [
       "<Figure size 432x288 with 1 Axes>"
      ]
     },
     "metadata": {},
     "output_type": "display_data"
    }
   ],
   "source": [
    "race_ax = plot_embeddings(['criminal', 'police', 'black', 'white', 'guilty', 'innocent'], embeddings_2d, 'orange') \n",
    "#base: innocent-guilty, true: police - criminal, false: black - white\n",
    "\n",
    "race_ax.set_xlim(right= 5.6)\n",
    "race_ax.set_ylim(top = 1.3)"
   ]
  },
  {
   "cell_type": "code",
   "execution_count": 321,
   "metadata": {},
   "outputs": [
    {
     "data": {
      "text/plain": [
       "(-0.3662851480117592, 1.7)"
      ]
     },
     "execution_count": 321,
     "metadata": {},
     "output_type": "execute_result"
    },
    {
     "data": {
      "image/png": "[encoded data removed]",
      "text/plain": [
       "<Figure size 432x288 with 1 Axes>"
      ]
     },
     "metadata": {},
     "output_type": "display_data"
    }
   ],
   "source": [
    "religion_ax = plot_embeddings(['islam', 'christianity', 'terrorist', 'lawful', 'eid', 'pentecost'], embeddings_2d, 'green')\n",
    "#base: islam-christianity, true: eid - pentecost, false: terrorist - lawful\n",
    "religion_ax.set_xlim(right= 4.2)\n",
    "religion_ax.set_ylim(top = 1.7)"
   ]
  },
  {
   "cell_type": "markdown",
   "metadata": {},
   "source": [
    "## Comparing Words"
   ]
  },
  {
   "cell_type": "markdown",
   "metadata": {},
   "source": [
    "Hopefully we were able to see some of the relationships between a couple of our data points! Let's now look at some mathematical properties of the embeddings. The first thing we can do is look at cosine similarity, which gives us the cosine of the angle between two vectors. The reason we use it over a spatial measure like Euclidean distance is because we're really trying to look at the relationship _between_ words. \n",
    "\n",
    "Although \"man\" and \"engineer\" might be extremely far from each other in our vector space, the relationship between the vectors for \"engineer\" and \"woman\" might be different. Additionally, the words for \"doctor\" and \"nurse\" appear much closer than other words based on gender, possibly pointing to the amount of male nurses and female doctors mentioned in the training corpus."
   ]
  },
  {
   "cell_type": "code",
   "execution_count": 43,
   "metadata": {},
   "outputs": [],
   "source": [
    "def comp_words(target, relation):\n",
    "    target_embedding = embeddings['target']\n",
    "    return [(relation[0], cosine_similarity([target_embedding], [embeddings[relation[0]]])[0]),\n",
    "             (relation[1], cosine_similarity([target_embedding], [embeddings[relation[1]]])[0])]\n",
    "    "
   ]
  },
  {
   "cell_type": "code",
   "execution_count": 48,
   "metadata": {},
   "outputs": [
    {
     "data": {
      "text/plain": [
       "[('man', array([0.42758992])), ('woman', array([0.33741925]))]"
      ]
     },
     "execution_count": 48,
     "metadata": {},
     "output_type": "execute_result"
    }
   ],
   "source": [
    "comp_words('engineer', ['man', 'woman']) #gender stereotypes in engineering"
   ]
  },
  {
   "cell_type": "code",
   "execution_count": 50,
   "metadata": {
    "scrolled": true
   },
   "outputs": [
    {
     "data": {
      "text/plain": [
       "[('asian', array([0.42330513])), ('african-american', array([0.02642636]))]"
      ]
     },
     "execution_count": 50,
     "metadata": {},
     "output_type": "execute_result"
    }
   ],
   "source": [
    "comp_words('engineer', ['asian', 'african-american']) #model minority myth"
   ]
  },
  {
   "cell_type": "code",
   "execution_count": 46,
   "metadata": {},
   "outputs": [
    {
     "data": {
      "text/plain": [
       "[('christianity', array([0.17068761])), ('islam', array([0.32167268]))]"
      ]
     },
     "execution_count": 46,
     "metadata": {},
     "output_type": "execute_result"
    }
   ],
   "source": [
    "comp_words('terrorist', ['christianity', 'islam']) #islam being associated with terrorism"
   ]
  },
  {
   "cell_type": "code",
   "execution_count": 47,
   "metadata": {},
   "outputs": [
    {
     "data": {
      "text/plain": [
       "[('black', array([0.32004993])), ('white', array([0.33585093]))]"
      ]
     },
     "execution_count": 47,
     "metadata": {},
     "output_type": "execute_result"
    }
   ],
   "source": [
    "comp_words('criminal', ['black', 'white']) #races of criminals"
   ]
  },
  {
   "cell_type": "markdown",
   "metadata": {},
   "source": [
    "We don't see too much of a difference for the last relation, but see evident gaps in the cosine similarity among the other words."
   ]
  },
  {
   "cell_type": "markdown",
   "metadata": {},
   "source": [
    "### 2. Preprocessing for Further Analysis"
   ]
  },
  {
   "cell_type": "markdown",
   "metadata": {},
   "source": [
    "Now, we'll go beyond analogies and apply cosine similarity and other operations to look at the entire dataset. \n",
    "\n",
    "In order to reduce the dimensionality of our search space, we're only going to consider words that describe people. The WordNet database organizes words based on semantics, so we're going to look at the _hyponyms_(words that could be subcategories of a given word) of the word \"person.\" In WordNet, the entry for a word corresponds to a _synset_, which is a set of _senses_, or contexts, a word could be mentioned in."
   ]
  },
  {
   "cell_type": "markdown",
   "metadata": {},
   "source": [
    "The senses of \"person\" are listed [here](http://wordnetweb.princeton.edu/perl/webwn?s=person&sub=Search+WordNet&o2=&o0=1&o8=1&o1=1&o7=&o5=&o9=&o6=&o3=&o4=&h=), we will use the first one.\n",
    "\n",
    "Although using built-in tools that perform tasks like named-entity recognition would be useful for this task, these are statistical/neural models that often require the word to be in a sentence. We could also look at databases that contain named entities to get rid of proper nouns, but because many common words are also proper nouns(i.e. the Apple corporation, surnames like Smith and Trump), this wouldn't be the most accurate method.  "
   ]
  },
  {
   "cell_type": "code",
   "execution_count": 30,
   "metadata": {},
   "outputs": [],
   "source": [
    "def get_hyponyms(synset):\n",
    "    \"\"\"Get all words that are considered subcategories, or hyponyms of a particular noun.\n",
    "    Takes in a WordNet Synset object, returns a set of words that are part of that synset\"\"\"\n",
    "    hyponyms = set()\n",
    "    for hyponym in synset.hyponyms():\n",
    "        hyponyms |= set(get_hyponyms(hyponym)) #Gets union of all the hyponyms of the word\n",
    "    hyponyms = hyponyms | set(synset.hyponyms())\n",
    "    return hyponyms\n",
    "\n",
    "types_of_people = {synset.name().split('.')[0] for synset in get_hyponyms(wn.synset('person.n.01'))}"
   ]
  },
  {
   "cell_type": "markdown",
   "metadata": {},
   "source": [
    "We also hard-code a list of gender-specific words, and add additional logic to a function to tell us if a word is specific to the male or female gender using the following lists from Danielle Sucher's [repo](https://github.com/DanielleSucher/Jailbreak-the-Patriarchy)."
   ]
  },
  {
   "cell_type": "code",
   "execution_count": 373,
   "metadata": {},
   "outputs": [],
   "source": [
    "#From Danielle Sucher's https://github.com/DanielleSucher/Jailbreak-the-Patriarchy\n",
    "male_words=set(['guy','spokesman','chairman',\"men's\",'men','him',\"he's\",'his',\n",
    "                'boy','boyfriend','boyfriends','boys','brother','brothers','dad','dads','dude','father','fathers',\n",
    "                'fiance','gentleman','gentlemen','god','grandfather','grandpa','grandson','groom','he','himself',\n",
    "                'husband','husbands','king','male','man','mr','nephew','nephews','priest','prince','son',\n",
    "                'sons','uncle','uncles','waiter','widower','widowers'])\n",
    "female_words=set(['heroine','spokeswoman','chairwoman',\"women's\",\n",
    "                  'actress','women',\"she's\",'her','aunt','aunts','bride',\n",
    "                  'daughter','daughters','female','fiancee','girl','girlfriend','girlfriends','girls',\n",
    "                  'goddess','granddaughter','grandma','grandmother','herself','ladies','lady','lady','mom',\n",
    "                  'moms','mother','mothers','mrs','ms','niece','nieces','priestess','princess','queens','she',\n",
    "                  'sister','sisters','waitress','widow','widows','wife','wives','woman'])\n",
    "def gender_neutral(word):\n",
    "    \"\"\"Takes in a word and returns True if the word does not belong to \"\"\"\n",
    "    return (word not in male_words) and (word not in female_words) and (not word.endswith('man')) and (not word.endswith('woman'))\n"
   ]
  },
  {
   "cell_type": "markdown",
   "metadata": {},
   "source": [
    "### 3. Finding the Closest Words"
   ]
  },
  {
   "cell_type": "markdown",
   "metadata": {},
   "source": [
    "Using our embeddings for people, let's look at the most similar words to a target word, like \"man.\""
   ]
  },
  {
   "cell_type": "code",
   "execution_count": 56,
   "metadata": {},
   "outputs": [],
   "source": [
    "def closest_persons(k, word, gender_bias = False):\n",
    "    #Here, we can use the cosine similarity array returned by k_nearest_vectors!\n",
    "    \"\"\"Takes in an integer, a word, and a flag if we're detecting gender bias to only include gender neutral words.\n",
    "    Returns a list of tuples in the following format \n",
    "    (word, cosine similarity to target, numerical rank of word with respect to target).\n",
    "    Because k_nearest_vectors outputs all types of vectors, the output will not have length k\"\"\"\n",
    "    k_nearest = k_nearest_vectors(k, matrix, [embeddings[word]])\n",
    "    people_tuples = [(vocab[k_nearest[0][i]], k_nearest[1][i], i) for i in np.arange(len(k_nearest[0])) \n",
    "            if vocab[k_nearest[0][i]] in types_of_people and vocab[k_nearest[0][i]] != word]\n",
    "    if gender_bias:\n",
    "        people_tuples = [t for t in people_tuples if gender_neutral(t[0])]\n",
    "    return people_tuples"
   ]
  },
  {
   "cell_type": "code",
   "execution_count": 58,
   "metadata": {},
   "outputs": [
    {
     "data": {
      "text/plain": [
       "[('life', 0.7371696782207191, 7),\n",
       " ('friend', 0.7170529706205984, 17),\n",
       " ('victim', 0.7082503974622372, 22),\n",
       " ('hand', 0.6704838539317455, 43),\n",
       " ('child', 0.6682647764797975, 47),\n",
       " ('hero', 0.6675072516075166, 50),\n",
       " ('soldier', 0.6572092481205023, 62),\n",
       " ('face', 0.6513383454136314, 73),\n",
       " ('shot', 0.6459691581360679, 89),\n",
       " ('character', 0.6392505276292051, 101),\n",
       " ('black', 0.6352095962184885, 113),\n",
       " ('back', 0.6348550425102408, 115),\n",
       " ('great', 0.6293664692090448, 131),\n",
       " ('head', 0.6289984883078916, 133),\n",
       " ('killer', 0.6218355513843233, 150),\n",
       " ('suspect', 0.6215987415548052, 152),\n",
       " ('lover', 0.6208189942315082, 156),\n",
       " ('sort', 0.6158453620191224, 168),\n",
       " ('best', 0.6132266626021035, 172),\n",
       " ('case', 0.6110351880748324, 181),\n",
       " ('doctor', 0.6092161526918836, 188),\n",
       " ('second', 0.6075386022692146, 197),\n",
       " ('name', 0.5984954299386631, 227),\n",
       " ('star', 0.5968591434323185, 232),\n",
       " ('self', 0.5865607346224554, 273),\n",
       " ('baby', 0.5813004476031609, 292),\n",
       " ('cousin', 0.5811990645794511, 293),\n",
       " ('witness', 0.5807797929311391, 298)]"
      ]
     },
     "execution_count": 58,
     "metadata": {},
     "output_type": "execute_result"
    }
   ],
   "source": [
    "compare_persons(300, 'man', gender_bias = True)"
   ]
  },
  {
   "cell_type": "code",
   "execution_count": 636,
   "metadata": {},
   "outputs": [
    {
     "data": {
      "text/plain": [
       "[('victim', 0.6407717678973269, 14),\n",
       " ('child', 0.6294301260530981, 16),\n",
       " ('lover', 0.5692697895600373, 28),\n",
       " ('nurse', 0.5646969077183875, 30),\n",
       " ('friend', 0.564160484551198, 31),\n",
       " ('life', 0.5593739976157563, 33),\n",
       " ('soldier', 0.5581014336367704, 36),\n",
       " ('worker', 0.5545941541036009, 39),\n",
       " ('prostitute', 0.5371960748744896, 47),\n",
       " ('baby', 0.5344769899519755, 52),\n",
       " ('teacher', 0.5338314430177431, 53),\n",
       " ('housewife', 0.531849122933435, 54),\n",
       " ('doctor', 0.5293920825671159, 57),\n",
       " ('married', 0.5071280346270718, 82),\n",
       " ('birth', 0.5048731795435029, 87),\n",
       " ('patient', 0.48858733901003293, 118),\n",
       " ('black', 0.4878013038637666, 119),\n",
       " ('attacker', 0.4832373010057014, 140),\n",
       " ('witness', 0.47893709378973437, 153),\n",
       " ('athlete', 0.47582035817977636, 164),\n",
       " ('case', 0.47466957549254385, 169),\n",
       " ('lawyer', 0.4741562391662266, 170),\n",
       " ('stranger', 0.47383268845460397, 173),\n",
       " ('student', 0.4716806493229572, 180),\n",
       " ('politician', 0.47160690569794794, 181),\n",
       " ('journalist', 0.4713477539783594, 184),\n",
       " ('maid', 0.47077156215759614, 187),\n",
       " ('shot', 0.47067472219032136, 188),\n",
       " ('face', 0.47060019307594303, 189),\n",
       " ('servant', 0.4702198434804906, 193),\n",
       " ('blond', 0.47008655118478365, 194),\n",
       " ('colleague', 0.4684097023032704, 199)]"
      ]
     },
     "execution_count": 636,
     "metadata": {},
     "output_type": "execute_result"
    }
   ],
   "source": [
    "compare_persons(200, 'woman', gender_bias = True)"
   ]
  },
  {
   "cell_type": "markdown",
   "metadata": {},
   "source": [
    "For \"man\" and \"woman\", we see that there are a lot of gender-specific words like \"son\" and \"daughter,\" but we also see some trends like \"prostitute\" and \"teacher\" being much closer to the vector for \"woman,\" when we see words like \"soldier\" and \"hero\" being closer to the vector for \"man.\""
   ]
  },
  {
   "cell_type": "code",
   "execution_count": 612,
   "metadata": {},
   "outputs": [
    {
     "data": {
      "text/plain": [
       "[('journalist', 0.5365671755406114, 4),\n",
       " ('resident', 0.5335940780111741, 5),\n",
       " ('american', 0.524323772697212, 7),\n",
       " ('immigrant', 0.5149044179025113, 9),\n",
       " ('canadian', 0.5087608372053418, 10),\n",
       " ('businessman', 0.4919954582587013, 15),\n",
       " ('ordinary', 0.49197911067484723, 16),\n",
       " ('politician', 0.49193664604583437, 17),\n",
       " ('lawyer', 0.4886279012698642, 18),\n",
       " ('advocate', 0.4798776509638012, 21),\n",
       " ('soldier', 0.4706849981014689, 23),\n",
       " ('diplomat', 0.47035736040449666, 24),\n",
       " ('woman', 0.4632373958648325, 29),\n",
       " ('fellow', 0.4516985015782866, 35),\n",
       " ('worker', 0.4481144856053686, 37),\n",
       " ('student', 0.443539956291243, 41),\n",
       " ('member', 0.4352997475956328, 46),\n",
       " ('man', 0.43399099844859074, 50),\n",
       " ('jew', 0.42736058974833313, 58)]"
      ]
     },
     "execution_count": 612,
     "metadata": {},
     "output_type": "execute_result"
    }
   ],
   "source": [
    "compare_persons(60, 'citizen')"
   ]
  },
  {
   "cell_type": "code",
   "execution_count": 597,
   "metadata": {},
   "outputs": [
    {
     "data": {
      "text/plain": [
       "[('migrant', 0.6586581622064355, 2),\n",
       " ('worker', 0.5467345173802629, 7),\n",
       " ('haitian', 0.5171931693127529, 10),\n",
       " ('citizen', 0.5149044179025113, 11),\n",
       " ('refugee', 0.4999778243758676, 19),\n",
       " ('mexican', 0.4850413018421284, 21),\n",
       " ('african-american', 0.4609086396751774, 35),\n",
       " ('child', 0.45092261580120474, 42),\n",
       " ('laborer', 0.44883905259640056, 46),\n",
       " ('jew', 0.43974927338906955, 53),\n",
       " ('native', 0.43409641745666205, 58),\n",
       " ('slave', 0.4277706757138491, 67),\n",
       " ('peasant', 0.42618831955368186, 69),\n",
       " ('mother', 0.41915443702011984, 76),\n",
       " ('settler', 0.41906893504267106, 77),\n",
       " ('ethnic', 0.4190071505342275, 78),\n",
       " ('hmong', 0.41789418111914434, 81),\n",
       " ('homeless', 0.41577220439169393, 87),\n",
       " ('gypsy', 0.4137312893354037, 89),\n",
       " ('cuban', 0.41006546518145714, 94)]"
      ]
     },
     "execution_count": 597,
     "metadata": {},
     "output_type": "execute_result"
    }
   ],
   "source": [
    "compare_persons(100, 'immigrant')"
   ]
  },
  {
   "cell_type": "markdown",
   "metadata": {},
   "source": [
    "For \"citizen\" and \"immigrant,\" we see terms that are biased toward professional occupations and poverty, respectively. \"Immigrant\" yielded more nationalities than \"citizen.\" Inputting specific nationalities only outputted vectors for other nationalities (i.e. \"american\" is near \"canadian\")"
   ]
  },
  {
   "cell_type": "code",
   "execution_count": 605,
   "metadata": {
    "scrolled": true
   },
   "outputs": [
    {
     "data": {
      "text/plain": [
       "[('muslim', 0.63936552999292, 4),\n",
       " ('religious', 0.6055856303162457, 6),\n",
       " ('prophet', 0.5690866955013705, 10),\n",
       " ('fundamentalist', 0.5615563148585314, 12),\n",
       " ('imam', 0.5159405941281745, 24),\n",
       " ('extremist', 0.5112426507672221, 26),\n",
       " ('sufi', 0.4988681944633398, 33),\n",
       " ('radical', 0.4985477790676014, 34),\n",
       " ('wahhabi', 0.47694639943682626, 53),\n",
       " ('shiite', 0.4716709054408388, 58),\n",
       " ('militant', 0.4659725130662824, 60),\n",
       " ('islamist', 0.46129436122721695, 64),\n",
       " ('cleric', 0.4462623660480373, 72),\n",
       " ('christian', 0.43232337579933255, 87),\n",
       " ('arab', 0.42549909536029623, 97)]"
      ]
     },
     "execution_count": 605,
     "metadata": {},
     "output_type": "execute_result"
    }
   ],
   "source": [
    "compare_persons(100, 'islam')"
   ]
  },
  {
   "cell_type": "code",
   "execution_count": 610,
   "metadata": {},
   "outputs": [
    {
     "data": {
      "text/plain": [
       "[('religious', 0.5704454681564426, 23),\n",
       " ('christian', 0.5650218802997707, 26),\n",
       " ('pagan', 0.5551570324668353, 28),\n",
       " ('roman', 0.48583317469927545, 65),\n",
       " ('catholic', 0.4855725548429508, 66),\n",
       " ('convert', 0.48535247510562557, 67),\n",
       " ('protestant', 0.4639060874298178, 84),\n",
       " ('byzantine', 0.4615717798917954, 86),\n",
       " ('pentecostal', 0.4601624667361376, 90)]"
      ]
     },
     "execution_count": 610,
     "metadata": {},
     "output_type": "execute_result"
    }
   ],
   "source": [
    "compare_persons(100, 'christianity')"
   ]
  },
  {
   "cell_type": "markdown",
   "metadata": {},
   "source": [
    "Along with religious words, the vector for \"islam\" is also close to words like \"militant\" and \"extremist,\" but this trend does not appear for other religions like Christianity. As a whole, this approach allows us to see some trends, but nothing too specific. In the next notebook, we'll learn about at an alternative way to quantify bias, implement it, and visualize our results!"
   ]
  }
 ],
 "metadata": {
  "kernelspec": {
   "display_name": "Python [conda env:datascience]",
   "language": "python",
   "name": "conda-env-datascience-py"
  },
  "language_info": {
   "codemirror_mode": {
    "name": "ipython",
    "version": 3
   },
   "file_extension": ".py",
   "mimetype": "text/x-python",
   "name": "python",
   "nbconvert_exporter": "python",
   "pygments_lexer": "ipython3",
   "version": "3.6.7"
  }
 },
 "nbformat": 4,
 "nbformat_minor": 2
}
